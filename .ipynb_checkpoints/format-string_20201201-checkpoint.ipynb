{
 "cells": [
  {
   "cell_type": "code",
   "execution_count": 22,
   "metadata": {},
   "outputs": [
    {
     "name": "stdout",
     "output_type": "stream",
     "text": [
      "Gregor is 52 yrs old!\n"
     ]
    }
   ],
   "source": [
    "name = \"Gregor\"\n",
    "age = 52\n",
    "\n",
    "line = \"{} is {} yrs old!\".format(name, age)\n",
    "print(line)"
   ]
  },
  {
   "cell_type": "code",
   "execution_count": 23,
   "metadata": {},
   "outputs": [
    {
     "data": {
      "text/plain": [
       "'Gregor is 52 yrs old!'"
      ]
     },
     "execution_count": 23,
     "metadata": {},
     "output_type": "execute_result"
    }
   ],
   "source": [
    "f\"{name} is {age} yrs old!\""
   ]
  },
  {
   "cell_type": "code",
   "execution_count": 24,
   "metadata": {},
   "outputs": [
    {
     "name": "stdout",
     "output_type": "stream",
     "text": [
      "Gregor is 52 yrs old!\n"
     ]
    }
   ],
   "source": [
    "ocka = {\"name\": \"Gregor\", \"age\": 52}\n",
    "line2 = \"{name} is {age} yrs old!\".format(name=ocka[\"name\"], age=ocka[\"age\"])\n",
    "print(line2)"
   ]
  },
  {
   "cell_type": "code",
   "execution_count": 25,
   "metadata": {},
   "outputs": [
    {
     "name": "stdout",
     "output_type": "stream",
     "text": [
      "Gregor is 52 yrs old!\n"
     ]
    }
   ],
   "source": [
    "name1 = \"Gregor\"\n",
    "age1 = 52\n",
    "line3 = \"{name} is {age} yrs old!\".format(name=name1, age=age1)\n",
    "print(line3)"
   ]
  },
  {
   "cell_type": "code",
   "execution_count": 26,
   "metadata": {},
   "outputs": [
    {
     "name": "stdout",
     "output_type": "stream",
     "text": [
      "Nebuccadnezhar is 15000 yrs old!\n"
     ]
    }
   ],
   "source": [
    "name2 = \"Nebuccadnezhar\"\n",
    "age2 = 15000\n",
    "line4 = f\"{name2} is {age2} yrs old!\"\n",
    "print(line4)\n"
   ]
  },
  {
   "cell_type": "code",
   "execution_count": 27,
   "metadata": {},
   "outputs": [
    {
     "name": "stdout",
     "output_type": "stream",
     "text": [
      "Gregor is 52 years old!\n",
      "Tadeja is 50 years old!\n",
      "Conan is 103 years old!\n",
      "Jean Baptiste Emanunuell zOrg is 1009 years old!\n"
     ]
    }
   ],
   "source": [
    "people = {  \"Gregor\": 52,\n",
    "            \"Tadeja\": 50,\n",
    "            \"Conan\": 103,\n",
    "            \"Jean Baptiste Emanunuell zOrg\": 1009\n",
    "         }\n",
    "\n",
    "for person, age in people.items():\n",
    "    print(f\"{person} is {age} years old!\")"
   ]
  },
  {
   "cell_type": "code",
   "execution_count": null,
   "metadata": {},
   "outputs": [],
   "source": []
  }
 ],
 "metadata": {
  "kernelspec": {
   "display_name": "Python 3",
   "language": "python",
   "name": "python3"
  },
  "language_info": {
   "codemirror_mode": {
    "name": "ipython",
    "version": 3
   },
   "file_extension": ".py",
   "mimetype": "text/x-python",
   "name": "python",
   "nbconvert_exporter": "python",
   "pygments_lexer": "ipython3",
   "version": "3.8.2"
  }
 },
 "nbformat": 4,
 "nbformat_minor": 4
}
