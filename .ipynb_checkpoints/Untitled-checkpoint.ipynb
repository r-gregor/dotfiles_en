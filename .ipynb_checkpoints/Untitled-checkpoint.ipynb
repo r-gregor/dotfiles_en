{
 "cells": [
  {
   "cell_type": "code",
   "execution_count": 1,
   "metadata": {},
   "outputs": [],
   "source": [
    "L = []"
   ]
  },
  {
   "cell_type": "code",
   "execution_count": 3,
   "metadata": {},
   "outputs": [],
   "source": [
    "L.append((1, \"A\"))"
   ]
  },
  {
   "cell_type": "code",
   "execution_count": 5,
   "metadata": {},
   "outputs": [],
   "source": [
    "L.append((1, \"B\"))\n",
    "L.append((1, \"C\"))\n",
    "L.append((0, \"Č\"))\n",
    "L.append((1, \"D\"))\n",
    "L.append((0, \"E\"))\n",
    "L.append((1, \"F\"))\n",
    "L.append((1, \"G\"))\n",
    "L.append((0, \"Č\"))\n",
    "L.append((1, \"H\"))\n",
    "L.append((0, \"I\"))\n",
    "L.append((1, \"J\"))\n",
    "L.append((1, \"K\"))\n",
    "L.append((0, \"L\"))\n",
    "L.append((1, \"M\"))\n",
    "L.append((0, \"N\"))"
   ]
  },
  {
   "cell_type": "code",
   "execution_count": 11,
   "metadata": {},
   "outputs": [],
   "source": [
    "L1 = [el1 for el1 in L if el1[0] == 1]"
   ]
  },
  {
   "cell_type": "code",
   "execution_count": 12,
   "metadata": {},
   "outputs": [],
   "source": [
    "L2 = [el2 for el2 in L if el2[0] == 0]"
   ]
  },
  {
   "cell_type": "code",
   "execution_count": 17,
   "metadata": {},
   "outputs": [
    {
     "data": {
      "text/plain": [
       "[(1, 'A'),\n",
       " (1, 'B'),\n",
       " (1, 'C'),\n",
       " (1, 'D'),\n",
       " (1, 'F'),\n",
       " (1, 'G'),\n",
       " (1, 'H'),\n",
       " (1, 'J'),\n",
       " (1, 'K'),\n",
       " (1, 'M')]"
      ]
     },
     "execution_count": 17,
     "metadata": {},
     "output_type": "execute_result"
    }
   ],
   "source": [
    "L1"
   ]
  },
  {
   "cell_type": "code",
   "execution_count": 18,
   "metadata": {},
   "outputs": [
    {
     "data": {
      "text/plain": [
       "[(0, 'Č'), (0, 'E'), (0, 'Č'), (0, 'I'), (0, 'L'), (0, 'N')]"
      ]
     },
     "execution_count": 18,
     "metadata": {},
     "output_type": "execute_result"
    }
   ],
   "source": [
    "L2"
   ]
  },
  {
   "cell_type": "code",
   "execution_count": 33,
   "metadata": {},
   "outputs": [],
   "source": [
    "def contents(list):\n",
    "    return \", \".join([CH[1] for CH in list])\n",
    "    "
   ]
  },
  {
   "cell_type": "code",
   "execution_count": 34,
   "metadata": {},
   "outputs": [
    {
     "name": "stdout",
     "output_type": "stream",
     "text": [
      "A, B, C, D, F, G, H, J, K, M\n"
     ]
    }
   ],
   "source": [
    "print(contents(L1))"
   ]
  },
  {
   "cell_type": "code",
   "execution_count": 35,
   "metadata": {},
   "outputs": [
    {
     "name": "stdout",
     "output_type": "stream",
     "text": [
      "Č, E, Č, I, L, N\n"
     ]
    }
   ],
   "source": [
    "print(contents(L2))"
   ]
  },
  {
   "cell_type": "code",
   "execution_count": null,
   "metadata": {},
   "outputs": [],
   "source": []
  }
 ],
 "metadata": {
  "kernelspec": {
   "display_name": "Python 3",
   "language": "python",
   "name": "python3"
  },
  "language_info": {
   "codemirror_mode": {
    "name": "ipython",
    "version": 3
   },
   "file_extension": ".py",
   "mimetype": "text/x-python",
   "name": "python",
   "nbconvert_exporter": "python",
   "pygments_lexer": "ipython3",
   "version": "3.8.2"
  }
 },
 "nbformat": 4,
 "nbformat_minor": 4
}
