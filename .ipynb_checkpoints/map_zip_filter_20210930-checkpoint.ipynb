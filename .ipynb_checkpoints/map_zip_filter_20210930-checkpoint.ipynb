{
 "cells": [
  {
   "cell_type": "code",
   "execution_count": 21,
   "metadata": {},
   "outputs": [],
   "source": [
    "L1 = [1, 2, 3, 4, 5, 6]"
   ]
  },
  {
   "cell_type": "code",
   "execution_count": 22,
   "metadata": {},
   "outputs": [],
   "source": [
    "def square(n):\n",
    "    return n*n"
   ]
  },
  {
   "cell_type": "code",
   "execution_count": 41,
   "metadata": {},
   "outputs": [],
   "source": [
    "Z1 = zip(L1, map(square, L1))"
   ]
  },
  {
   "cell_type": "code",
   "execution_count": 42,
   "metadata": {},
   "outputs": [],
   "source": [
    "D1 = dict(Z1)"
   ]
  },
  {
   "cell_type": "code",
   "execution_count": 43,
   "metadata": {},
   "outputs": [
    {
     "name": "stdout",
     "output_type": "stream",
     "text": [
      "{1: 1, 2: 4, 3: 9, 4: 16, 5: 25, 6: 36}\n"
     ]
    }
   ],
   "source": [
    "print(D1)"
   ]
  },
  {
   "cell_type": "code",
   "execution_count": 48,
   "metadata": {},
   "outputs": [
    {
     "name": "stdout",
     "output_type": "stream",
     "text": [
      "Square of 2 is: 4\n",
      "Square of 5 is: 25\n"
     ]
    }
   ],
   "source": [
    "n = 4\n",
    "print(f'Square of {n-2} is: {D1.get(n-2)}')\n",
    "print(f'Square of {n+1} is: {D1[n+1]}')"
   ]
  },
  {
   "cell_type": "code",
   "execution_count": 126,
   "metadata": {},
   "outputs": [],
   "source": [
    "LTc = list(range(1,101)) # temperatures in °C from 1 to 100"
   ]
  },
  {
   "cell_type": "code",
   "execution_count": 131,
   "metadata": {},
   "outputs": [
    {
     "name": "stdout",
     "output_type": "stream",
     "text": [
      "[1, 2, 3, 4, 5, 6, 7, 8, 9, 10, 11, 12, 13, 14, 15, 16, 17, 18, 19, 20, 21, 22, 23, 24, 25, 26, 27, 28, 29, 30, 31, 32, 33, 34, 35, 36, 37, 38, 39, 40, 41, 42, 43, 44, 45, 46, 47, 48, 49, 50, 51, 52, 53, 54, 55, 56, 57, 58, 59, 60, 61, 62, 63, 64, 65, 66, 67, 68, 69, 70, 71, 72, 73, 74, 75, 76, 77, 78, 79, 80, 81, 82, 83, 84, 85, 86, 87, 88, 89, 90, 91, 92, 93, 94, 95, 96, 97, 98, 99, 100]\n"
     ]
    }
   ],
   "source": [
    "print(LTc)"
   ]
  },
  {
   "cell_type": "code",
   "execution_count": 141,
   "metadata": {},
   "outputs": [],
   "source": [
    "def from_C_to_F(Tc):\n",
    "    return (Tc * 9/5) + 32"
   ]
  },
  {
   "cell_type": "code",
   "execution_count": 142,
   "metadata": {},
   "outputs": [],
   "source": [
    "Fn = dict(zip(LTc, map(from_C_to_F, LTc))) # mapping temperatures in °C to °F"
   ]
  },
  {
   "cell_type": "code",
   "execution_count": 175,
   "metadata": {},
   "outputs": [],
   "source": [
    "Fn2 = dict(zip(LTc, map(lambda el: el*9/5 + 32, LTc))) # mapping temperatures in °C to °F - lambda expression!!"
   ]
  },
  {
   "cell_type": "code",
   "execution_count": 176,
   "metadata": {},
   "outputs": [
    {
     "name": "stdout",
     "output_type": "stream",
     "text": [
      "{1: 33.8, 2: 35.6, 3: 37.4, 4: 39.2, 5: 41.0, 6: 42.8, 7: 44.6, 8: 46.4, 9: 48.2, 10: 50.0, 11: 51.8, 12: 53.6, 13: 55.4, 14: 57.2, 15: 59.0, 16: 60.8, 17: 62.6, 18: 64.4, 19: 66.2, 20: 68.0, 21: 69.8, 22: 71.6, 23: 73.4, 24: 75.2, 25: 77.0, 26: 78.8, 27: 80.6, 28: 82.4, 29: 84.2, 30: 86.0, 31: 87.8, 32: 89.6, 33: 91.4, 34: 93.2, 35: 95.0, 36: 96.8, 37: 98.6, 38: 100.4, 39: 102.2, 40: 104.0, 41: 105.8, 42: 107.6, 43: 109.4, 44: 111.2, 45: 113.0, 46: 114.8, 47: 116.6, 48: 118.4, 49: 120.2, 50: 122.0, 51: 123.8, 52: 125.6, 53: 127.4, 54: 129.2, 55: 131.0, 56: 132.8, 57: 134.6, 58: 136.4, 59: 138.2, 60: 140.0, 61: 141.8, 62: 143.6, 63: 145.4, 64: 147.2, 65: 149.0, 66: 150.8, 67: 152.6, 68: 154.4, 69: 156.2, 70: 158.0, 71: 159.8, 72: 161.6, 73: 163.4, 74: 165.2, 75: 167.0, 76: 168.8, 77: 170.6, 78: 172.4, 79: 174.2, 80: 176.0, 81: 177.8, 82: 179.6, 83: 181.4, 84: 183.2, 85: 185.0, 86: 186.8, 87: 188.6, 88: 190.4, 89: 192.2, 90: 194.0, 91: 195.8, 92: 197.6, 93: 199.4, 94: 201.2, 95: 203.0, 96: 204.8, 97: 206.6, 98: 208.4, 99: 210.2, 100: 212.0}\n"
     ]
    }
   ],
   "source": [
    "print(Fn2)"
   ]
  },
  {
   "cell_type": "code",
   "execution_count": 146,
   "metadata": {},
   "outputs": [
    {
     "name": "stdout",
     "output_type": "stream",
     "text": [
      "Q: What is the 53°C in °F?\n",
      "A: 127.40°F\n"
     ]
    }
   ],
   "source": [
    "print(\"Q: What is the 53°C in °F?\")\n",
    "print(f\"A: {Fn.get(53):.2f}°F\") # getting result from Fn dict"
   ]
  },
  {
   "cell_type": "code",
   "execution_count": 144,
   "metadata": {},
   "outputs": [
    {
     "name": "stdout",
     "output_type": "stream",
     "text": [
      "Q: What is the 32°C in °F?\n",
      "A: 89.60°F\n"
     ]
    }
   ],
   "source": [
    "print(\"Q: What is the 32°C in °F?\")\n",
    "print(f\"A: {from_C_to_F(32):.2f}°F\") # getting result from function"
   ]
  },
  {
   "cell_type": "code",
   "execution_count": 150,
   "metadata": {},
   "outputs": [],
   "source": [
    "def q_and_a(Tc):\n",
    "    print(f\"Q: What is the {Tc}°C in °F?\")\n",
    "    print(f\"A: {from_C_to_F(Tc):.2f}°F\")\n",
    "    print(\"--------------------------\")"
   ]
  },
  {
   "cell_type": "code",
   "execution_count": 151,
   "metadata": {},
   "outputs": [
    {
     "name": "stdout",
     "output_type": "stream",
     "text": [
      "Q: What is the 32°C in °F?\n",
      "A: 89.60°F\n",
      "--------------------------\n"
     ]
    }
   ],
   "source": [
    "q_and_a(32)"
   ]
  },
  {
   "cell_type": "code",
   "execution_count": 171,
   "metadata": {},
   "outputs": [],
   "source": [
    "def Q_and_A(Tc):\n",
    "    print(f\"Q: What is the {Tc}°C in °F?\")\n",
    "    print(f\"A: {from_C_to_F(Tc):.2f}°F\")"
   ]
  },
  {
   "cell_type": "code",
   "execution_count": 172,
   "metadata": {},
   "outputs": [
    {
     "name": "stdout",
     "output_type": "stream",
     "text": [
      "Q: What is the 99°C in °F?\n",
      "A: 210.20°F\n"
     ]
    }
   ],
   "source": [
    "Q_and_A(99)"
   ]
  },
  {
   "cell_type": "code",
   "execution_count": 161,
   "metadata": {},
   "outputs": [
    {
     "name": "stdout",
     "output_type": "stream",
     "text": [
      "Q: What is the 14°C in °F?\n",
      "A: 57.20°F\n",
      "--------------------------\n",
      "Q: What is the 96°C in °F?\n",
      "A: 204.80°F\n",
      "--------------------------\n",
      "Q: What is the 1°C in °F?\n",
      "A: 33.80°F\n",
      "--------------------------\n",
      "Q: What is the 22°C in °F?\n",
      "A: 71.60°F\n",
      "--------------------------\n",
      "Q: What is the 86°C in °F?\n",
      "A: 186.80°F\n",
      "--------------------------\n"
     ]
    }
   ],
   "source": [
    "import random\n",
    "for n in range(5):\n",
    "    Tc1 = random.randint(1,100)\n",
    "    q_and_a(Tc1)"
   ]
  },
  {
   "cell_type": "code",
   "execution_count": 188,
   "metadata": {},
   "outputs": [
    {
     "name": "stdout",
     "output_type": "stream",
     "text": [
      "{1: 33.8, 2: 35.6, 3: 37.4, 4: 39.2, 5: 41.0, 6: 42.8, 7: 44.6, 8: 46.4, 9: 48.2, 10: 50.0, 11: 51.8, 12: 53.6, 13: 55.4, 14: 57.2, 15: 59.0, 16: 60.8, 17: 62.6, 18: 64.4, 19: 66.2, 20: 68.0, 21: 69.8, 22: 71.6, 23: 73.4, 24: 75.2, 25: 77.0, 26: 78.8, 27: 80.6, 28: 82.4, 29: 84.2, 30: 86.0, 31: 87.8}\n"
     ]
    }
   ],
   "source": [
    "print(dict(filter(lambda el:  el[1] < 88, Fn.items()))) # BY VALUES --> el[1]\n",
    "# el --> Fn items: key, value pairs\n",
    "# el[0] --> key\n",
    "# el[1] --> value"
   ]
  },
  {
   "cell_type": "code",
   "execution_count": 193,
   "metadata": {},
   "outputs": [
    {
     "name": "stdout",
     "output_type": "stream",
     "text": [
      "{1: 33.8, 2: 35.6, 3: 37.4, 4: 39.2, 5: 41.0, 6: 42.8, 7: 44.6, 8: 46.4, 9: 48.2, 10: 50.0, 11: 51.8, 12: 53.6, 13: 55.4, 14: 57.2, 15: 59.0, 16: 60.8, 17: 62.6, 18: 64.4, 19: 66.2, 20: 68.0, 21: 69.8}\n"
     ]
    }
   ],
   "source": [
    "print(dict(filter(lambda el:  el[0] < 22, Fn.items()))) # BY KEYS --> el[0]\n",
    "# el --> Fn items: key, value pairs\n",
    "# el[0] --> key\n",
    "# el[1] --> value"
   ]
  },
  {
   "cell_type": "code",
   "execution_count": null,
   "metadata": {},
   "outputs": [],
   "source": []
  }
 ],
 "metadata": {
  "kernelspec": {
   "display_name": "Python 3",
   "language": "python",
   "name": "python3"
  },
  "language_info": {
   "codemirror_mode": {
    "name": "ipython",
    "version": 3
   },
   "file_extension": ".py",
   "mimetype": "text/x-python",
   "name": "python",
   "nbconvert_exporter": "python",
   "pygments_lexer": "ipython3",
   "version": "3.8.2"
  }
 },
 "nbformat": 4,
 "nbformat_minor": 4
}
