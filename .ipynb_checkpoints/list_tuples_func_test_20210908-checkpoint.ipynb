{
 "cells": [
  {
   "cell_type": "code",
   "execution_count": 65,
   "metadata": {},
   "outputs": [],
   "source": [
    "L = []"
   ]
  },
  {
   "cell_type": "code",
   "execution_count": 66,
   "metadata": {},
   "outputs": [],
   "source": [
    "L.append((1, \"A\"))\n",
    "L.append((1, \"B\"))\n",
    "L.append((1, \"C\"))\n",
    "L.append((0, \"Č\"))\n",
    "L.append((1, \"D\"))\n",
    "L.append((0, \"E\"))\n",
    "L.append((1, \"F\"))\n",
    "L.append((1, \"G\"))\n",
    "L.append((0, \"Č\"))\n",
    "L.append((1, \"H\"))\n",
    "L.append((0, \"I\"))\n",
    "L.append((1, \"J\"))\n",
    "L.append((1, \"K\"))\n",
    "L.append((0, \"L\"))\n",
    "L.append((1, \"M\"))\n",
    "L.append((0, \"N\"))"
   ]
  },
  {
   "cell_type": "code",
   "execution_count": 67,
   "metadata": {},
   "outputs": [],
   "source": [
    "'''list comprehention 1 --> list of tuples with leading value of 1'''\n",
    "L1 = [el1 for el1 in L if el1[0] == 1]"
   ]
  },
  {
   "cell_type": "code",
   "execution_count": 68,
   "metadata": {},
   "outputs": [],
   "source": [
    "'''list comprehention 2 --> list of tuples with leading value of 0'''\n",
    "L2 = [el2 for el2 in L if el2[0] == 0]"
   ]
  },
  {
   "cell_type": "code",
   "execution_count": 69,
   "metadata": {},
   "outputs": [
    {
     "name": "stdout",
     "output_type": "stream",
     "text": [
      "[(1, 'A'), (1, 'B'), (1, 'C'), (1, 'D'), (1, 'F'), (1, 'G'), (1, 'H'), (1, 'J'), (1, 'K'), (1, 'M')]\n"
     ]
    }
   ],
   "source": [
    "print(L1)"
   ]
  },
  {
   "cell_type": "code",
   "execution_count": 70,
   "metadata": {},
   "outputs": [
    {
     "name": "stdout",
     "output_type": "stream",
     "text": [
      "[(0, 'Č'), (0, 'E'), (0, 'Č'), (0, 'I'), (0, 'L'), (0, 'N')]\n"
     ]
    }
   ],
   "source": [
    "print(L2)"
   ]
  },
  {
   "cell_type": "code",
   "execution_count": 71,
   "metadata": {},
   "outputs": [],
   "source": [
    "def contents(list, delim):\n",
    "    '''return string value from each tuple as long string separated by delim'''\n",
    "    return delim.join([CH[1] for CH in list])\n",
    "    "
   ]
  },
  {
   "cell_type": "code",
   "execution_count": 72,
   "metadata": {},
   "outputs": [
    {
     "name": "stdout",
     "output_type": "stream",
     "text": [
      "A, B, C, D, F, G, H, J, K, M\n",
      "A ~ B ~ C ~ D ~ F ~ G ~ H ~ J ~ K ~ M\n",
      "A :: B :: C :: D :: F :: G :: H :: J :: K :: M\n"
     ]
    }
   ],
   "source": [
    "print(contents(L1, \", \"))\n",
    "print(contents(L1, \" ~ \"))\n",
    "print(contents(L1, \" :: \"))"
   ]
  },
  {
   "cell_type": "code",
   "execution_count": 73,
   "metadata": {},
   "outputs": [
    {
     "name": "stdout",
     "output_type": "stream",
     "text": [
      "Č | E | Č | I | L | N\n"
     ]
    }
   ],
   "source": [
    "print(contents(L2, \" | \"))"
   ]
  },
  {
   "cell_type": "code",
   "execution_count": 74,
   "metadata": {},
   "outputs": [
    {
     "name": "stdout",
     "output_type": "stream",
     "text": [
      "The type of contents: <class 'str'>\n"
     ]
    }
   ],
   "source": [
    "line1 = contents(L1, \" % \")\n",
    "print(f\"The type of contents: {type(line1)}\")"
   ]
  },
  {
   "cell_type": "code",
   "execution_count": null,
   "metadata": {},
   "outputs": [],
   "source": []
  },
  {
   "cell_type": "code",
   "execution_count": null,
   "metadata": {},
   "outputs": [],
   "source": []
  }
 ],
 "metadata": {
  "kernelspec": {
   "display_name": "Python 3",
   "language": "python",
   "name": "python3"
  },
  "language_info": {
   "codemirror_mode": {
    "name": "ipython",
    "version": 3
   },
   "file_extension": ".py",
   "mimetype": "text/x-python",
   "name": "python",
   "nbconvert_exporter": "python",
   "pygments_lexer": "ipython3",
   "version": "3.8.2"
  }
 },
 "nbformat": 4,
 "nbformat_minor": 4
}
